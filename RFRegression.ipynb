{
 "cells": [
  {
   "cell_type": "code",
   "execution_count": 33,
   "metadata": {},
   "outputs": [],
   "source": [
    "import pandas as pd\n",
    "import os\n",
    "import matplotlib.pyplot as plt\n",
    "import numpy as np\n",
    "import seaborn as sns\n",
    "from sklearn.metrics import r2_score, mean_squared_error, mean_absolute_error\n",
    "from sklearn.model_selection import train_test_split"
   ]
  },
  {
   "cell_type": "code",
   "execution_count": 17,
   "metadata": {},
   "outputs": [
    {
     "name": "stdout",
     "output_type": "stream",
     "text": [
      "Dropped 24 columns\n"
     ]
    },
    {
     "name": "stderr",
     "output_type": "stream",
     "text": [
      "c:\\Users\\A070050\\AppData\\Local\\Programs\\Python\\Python38\\lib\\site-packages\\openpyxl\\worksheet\\_reader.py:329: UserWarning: Data Validation extension is not supported and will be removed\n",
      "  warn(msg)\n"
     ]
    }
   ],
   "source": [
    "from load_data import process_steel_data\n",
    "\n",
    "full_path = 'data/'\n",
    "path = 'data/MDC_Data_Descriptions_MeCoMeP-r-value.xlsx'\n",
    "correlation_rate = 0.2\n",
    "dvl_line = 1\n",
    "\n",
    "df = process_steel_data(full_path, path, correlation_rate, dvl_line, model_output=True)"
   ]
  },
  {
   "cell_type": "code",
   "execution_count": null,
   "metadata": {},
   "outputs": [],
   "source": [
    "from sklearn.preprocessing import StandardScaler\n",
    "\n",
    "# Split first to avoid data leakage\n",
    "train_df, test_df = train_test_split(df, test_size=0.2, random_state=42)\n",
    "\n",
    "# Scale the training set\n",
    "scaler = StandardScaler()\n",
    "train_scaled = scaler.fit_transform(train_df.drop(['steel_family', 'steel_grade'], axis=1))\n",
    "train_scaled_df = pd.DataFrame(train_scaled, columns=train_df.drop(['steel_family', 'steel_grade'], axis=1).columns)\n",
    "train_scaled_df['steel_family'] = train_df['steel_family'].reset_index(drop=True)\n",
    "\n",
    "# Scale the testing set using the scaler fitted on the training set\n",
    "test_scaled = scaler.transform(test_df.drop(['steel_family', 'steel_grade'], axis=1))\n",
    "test_scaled_df = pd.DataFrame(test_scaled, columns=test_df.drop(['steel_family', 'steel_grade'], axis=1).columns)\n",
    "test_scaled_df['steel_family'] = test_df['steel_family'].reset_index(drop=True)"
   ]
  },
  {
   "cell_type": "code",
   "execution_count": 20,
   "metadata": {},
   "outputs": [],
   "source": [
    "from sklearn.model_selection import GridSearchCV\n",
    "from sklearn.ensemble import RandomForestRegressor\n",
    "from tqdm import tqdm\n",
    "\n",
    "def optimize_hyperparameters(X_train, y_train):\n",
    "    param_grid = {\n",
    "        'n_estimators': [100, 200, 300],\n",
    "        'max_depth': [3, 5, 7, None],\n",
    "        'min_samples_split': [2, 5, 10],\n",
    "        'min_samples_leaf': [1, 2, 4],\n",
    "        'max_features': [1.0, 'sqrt', 'log2']\n",
    "    }\n",
    "    grid_search = GridSearchCV(\n",
    "        estimator=RandomForestRegressor(random_state=42),\n",
    "        param_grid=param_grid,\n",
    "        cv=5,\n",
    "        scoring='neg_mean_squared_error',\n",
    "        n_jobs=-1\n",
    "    )\n",
    "    grid_search.fit(X_train, y_train)\n",
    "    return {\n",
    "        'best_params': grid_search.best_params_,\n",
    "        'best_estimator': grid_search.best_estimator_,\n",
    "        'best_score': -grid_search.best_score_\n",
    "    }\n",
    "\n",
    "def train_optimized_family_models(df):\n",
    "    optimized_models = {}\n",
    "    families = list(df['steel_family'].unique())\n",
    "    for family in tqdm(families, desc=\"Optimizing Models\", unit=\"family\"):\n",
    "        family_data = df[df['steel_family'] == family]\n",
    "        X = family_data.drop(['steel_family', 'r_value'], axis=1)\n",
    "        y = family_data['r_value']\n",
    "        X_train, X_test, y_train, y_test = train_test_split(X, y, test_size=0.2, random_state=42)\n",
    "        \n",
    "        optimization_results = optimize_hyperparameters(X_train, y_train)\n",
    "        best_model = optimization_results['best_estimator']\n",
    "        best_model.fit(X_train, y_train)\n",
    "        \n",
    "        y_pred_train = best_model.predict(X_train)\n",
    "        y_pred_test = best_model.predict(X_test)\n",
    "        \n",
    "        optimized_models[family] = {\n",
    "            'model': best_model,\n",
    "            'best_params': optimization_results['best_params'],\n",
    "            'best_score': optimization_results['best_score'],\n",
    "            'train_mse': mean_squared_error(y_train, y_pred_train),\n",
    "            'test_mse': mean_squared_error(y_test, y_pred_test),\n",
    "            'train_r2': r2_score(y_train, y_pred_train),\n",
    "            'test_r2': r2_score(y_test, y_pred_test)\n",
    "        }\n",
    "    return optimized_models"
   ]
  },
  {
   "cell_type": "code",
   "execution_count": 28,
   "metadata": {},
   "outputs": [],
   "source": [
    "# # Run optimization\n",
    "# optimized_family_models = train_optimized_family_models(train_scaled_df)\n",
    "\n",
    "# for family, model_info in optimized_family_models.items():\n",
    "#     print(f\"Family: {family}\")\n",
    "#     print(f\"Best Parameters: {model_info['best_params']}\")\n",
    "#     print(f\"Best CV Score (MSE): {model_info['best_score']}\")\n",
    "#     print(f\"Test MSE: {model_info['test_mse']}\")\n",
    "#     print(f\"Test R2: {model_info['test_r2']}\")\n",
    "\n",
    "# Family: CMn\n",
    "# Best Parameters: {'max_depth': None, 'max_features': 1.0, 'min_samples_leaf': 1, 'min_samples_split': 2, 'n_estimators': 300}\n",
    "# Best CV Score (MSE): 0.03911500158250465\n",
    "# Test MSE: 0.039220056517814274\n",
    "# Test R2: 0.6972855582368966\n",
    "# Family: IF\n",
    "# Best Parameters: {'max_depth': None, 'max_features': 1.0, 'min_samples_leaf': 2, 'min_samples_split': 2, 'n_estimators': 300}\n",
    "# Best CV Score (MSE): 0.07053096351833663\n",
    "# Test MSE: 0.07078659003356745\n",
    "# Test R2: 0.6518490759619813\n",
    "# Family: HSLA\n",
    "# Best Parameters: {'max_depth': None, 'max_features': 1.0, 'min_samples_leaf': 1, 'min_samples_split': 2, 'n_estimators': 100}\n",
    "# Best CV Score (MSE): 0.020651079427269632\n",
    "# Test MSE: 0.020220584773076537\n",
    "# Test R2: 0.7733940539686319"
   ]
  },
  {
   "cell_type": "code",
   "execution_count": 29,
   "metadata": {},
   "outputs": [],
   "source": [
    "optimized_family_models_dict = {'CMn': {'model': RandomForestRegressor(max_depth=None, max_features=1.0, min_samples_leaf=1, min_samples_split=2, n_estimators=300, random_state=42),\n",
    "  'best_params': {'max_depth': None,\n",
    "   'max_features': 1.0,\n",
    "   'min_samples_leaf': 1,\n",
    "   'min_samples_split': 2,\n",
    "   'n_estimators': 300}\n",
    "   },\n",
    " 'IF': {'model': RandomForestRegressor(max_depth=None, max_features=1.0, min_samples_leaf=2, min_samples_split=2, n_estimators=300, random_state=42),\n",
    "  'best_params': {'max_depth': None,\n",
    "   'max_features': 1.0,\n",
    "   'min_samples_leaf': 2,\n",
    "   'min_samples_split': 2,\n",
    "   'n_estimators': 300}\n",
    "   },\n",
    " 'HSLA': {'model': RandomForestRegressor(max_depth=None, max_features=1.0, min_samples_leaf=1, min_samples_split=2, n_estimators=100, random_state=42),\n",
    "  'best_params': {'max_depth': None,\n",
    "   'max_features': 1.0,\n",
    "   'min_samples_leaf': 1,\n",
    "   'min_samples_split': 2,\n",
    "   'n_estimators': 100}\n",
    "   }\n",
    "}"
   ]
  },
  {
   "cell_type": "code",
   "execution_count": 31,
   "metadata": {},
   "outputs": [],
   "source": [
    "def train_optimized_models(df, optimized_models_dict):\n",
    "    trained_models = {}\n",
    "    for family, model_config in optimized_models_dict.items():\n",
    "        # Filter data for the specific steel family\n",
    "        family_data = df[df['steel_family'] == family]\n",
    "        \n",
    "        # Separate features and target\n",
    "        X = family_data.drop(['steel_family', 'r_value'], axis=1)\n",
    "        y = family_data['r_value']\n",
    "        \n",
    "        # Split the data\n",
    "        X_train, X_test, y_train, y_test = train_test_split(X, y, test_size=0.2, random_state=42)\n",
    "        \n",
    "        # Create the model using the best estimator from grid search\n",
    "        model = model_config['model']\n",
    "        model.fit(X_train, y_train)\n",
    "        \n",
    "        # Evaluate the model\n",
    "        y_pred_test = model.predict(X_test)\n",
    "        \n",
    "        # Store the model with performance metrics\n",
    "        trained_models[family] = {\n",
    "            'model': model,\n",
    "            'test_r2': r2_score(y_test, y_pred_test),\n",
    "            'test_mse': mean_squared_error(y_test, y_pred_test),\n",
    "            'test_mae': mean_absolute_error(y_test, y_pred_test)\n",
    "        }\n",
    "    \n",
    "    return trained_models"
   ]
  },
  {
   "cell_type": "code",
   "execution_count": null,
   "metadata": {},
   "outputs": [],
   "source": [
    "tmp1 = train_optimized_models(train_scaled_df, optimized_family_models_dict)"
   ]
  },
  {
   "cell_type": "code",
   "execution_count": 40,
   "metadata": {},
   "outputs": [
    {
     "data": {
      "text/plain": [
       "{'CMn': {'model': RandomForestRegressor(n_estimators=300, random_state=42),\n",
       "  'best_params': {'max_depth': None,\n",
       "   'max_features': 1.0,\n",
       "   'min_samples_leaf': 1,\n",
       "   'min_samples_split': 2,\n",
       "   'n_estimators': 300},\n",
       "  'best_score': 0.03911500158250465,\n",
       "  'train_mse': 0.005098760109428909,\n",
       "  'test_mse': 0.039220056517814274,\n",
       "  'train_r2': 0.9614892646907356,\n",
       "  'test_r2': 0.6972855582368966},\n",
       " 'IF': {'model': RandomForestRegressor(min_samples_leaf=2, n_estimators=300, random_state=42),\n",
       "  'best_params': {'max_depth': None,\n",
       "   'max_features': 1.0,\n",
       "   'min_samples_leaf': 2,\n",
       "   'min_samples_split': 2,\n",
       "   'n_estimators': 300},\n",
       "  'best_score': 0.07053096351833663,\n",
       "  'train_mse': 0.012290691587332411,\n",
       "  'test_mse': 0.07078659003356745,\n",
       "  'train_r2': 0.9360065226112136,\n",
       "  'test_r2': 0.6518490759619813},\n",
       " 'HSLA': {'model': RandomForestRegressor(random_state=42),\n",
       "  'best_params': {'max_depth': None,\n",
       "   'max_features': 1.0,\n",
       "   'min_samples_leaf': 1,\n",
       "   'min_samples_split': 2,\n",
       "   'n_estimators': 100},\n",
       "  'best_score': 0.020651079427269632,\n",
       "  'train_mse': 0.0028541101966073315,\n",
       "  'test_mse': 0.020220584773076537,\n",
       "  'train_r2': 0.9689417711942211,\n",
       "  'test_r2': 0.7733940539686319}}"
      ]
     },
     "execution_count": 40,
     "metadata": {},
     "output_type": "execute_result"
    }
   ],
   "source": [
    "optimized_family_models"
   ]
  },
  {
   "cell_type": "code",
   "execution_count": 35,
   "metadata": {},
   "outputs": [
    {
     "data": {
      "text/plain": [
       "{'CMn': {'model': RandomForestRegressor(n_estimators=300, random_state=42),\n",
       "  'test_r2': 0.6972855582368966,\n",
       "  'test_mse': 0.039220056517814274,\n",
       "  'test_mae': 0.13719910991353376},\n",
       " 'IF': {'model': RandomForestRegressor(min_samples_leaf=2, n_estimators=300, random_state=42),\n",
       "  'test_r2': 0.6518490759619813,\n",
       "  'test_mse': 0.07078659003356745,\n",
       "  'test_mae': 0.2057577014596681},\n",
       " 'HSLA': {'model': RandomForestRegressor(random_state=42),\n",
       "  'test_r2': 0.7733940539686319,\n",
       "  'test_mse': 0.020220584773076537,\n",
       "  'test_mae': 0.09750937327044966}}"
      ]
     },
     "execution_count": 35,
     "metadata": {},
     "output_type": "execute_result"
    }
   ],
   "source": [
    "tmp1"
   ]
  },
  {
   "cell_type": "code",
   "execution_count": 37,
   "metadata": {},
   "outputs": [],
   "source": [
    "def plot_predicted_vs_actual(optimized_models, df):\n",
    "    plt.figure(figsize=(15, 5 * len(optimized_models)))\n",
    "    \n",
    "    for i, (family, model_info) in enumerate(optimized_models.items(), 1):\n",
    "        plt.subplot(len(optimized_models), 1, i)\n",
    "        \n",
    "        # Recreate train/test split\n",
    "        family_data = df[df['steel_family'] == family]\n",
    "        X = family_data.drop(['steel_family', 'r_value'], axis=1)\n",
    "        y = family_data['r_value']\n",
    "        X_train, X_test, y_train, y_test = train_test_split(X, y, test_size=0.2, random_state=42)\n",
    "        \n",
    "        # Predict\n",
    "        y_pred_test = model_info['model'].predict(X_test)\n",
    "        \n",
    "        # Plot\n",
    "        plt.scatter(y_test, y_pred_test, alpha=0.7)\n",
    "        plt.plot([y_test.min(), y_test.max()], [y_test.min(), y_test.max()], 'r--', lw=2)\n",
    "        plt.title(f'{family} - Predicted vs Actual R-Value')\n",
    "        plt.xlabel('Actual R-Value')\n",
    "        plt.ylabel('Predicted R-Value')\n",
    "        \n",
    "        # Annotate with R² and MSE\n",
    "        plt.text(0.05, 0.95, \n",
    "                 f\"Test R²: {model_info['test_r2']:.4f}\\n\" +\n",
    "                 f\"Test MSE: {model_info['test_mse']:.4f}\", \n",
    "                 transform=plt.gca().transAxes, \n",
    "                 verticalalignment='top')\n",
    "    \n",
    "    plt.tight_layout()\n",
    "    plt.show()"
   ]
  },
  {
   "cell_type": "code",
   "execution_count": null,
   "metadata": {},
   "outputs": [
    {
     "ename": "KeyError",
     "evalue": "'test_r2'",
     "output_type": "error",
     "traceback": [
      "\u001b[1;31m---------------------------------------------------------------------------\u001b[0m",
      "\u001b[1;31mKeyError\u001b[0m                                  Traceback (most recent call last)",
      "Cell \u001b[1;32mIn[38], line 1\u001b[0m\n\u001b[1;32m----> 1\u001b[0m \u001b[43mplot_predicted_vs_actual\u001b[49m\u001b[43m(\u001b[49m\u001b[43moptimized_family_models_dict\u001b[49m\u001b[43m,\u001b[49m\u001b[43m \u001b[49m\u001b[43mtest_scaled_df\u001b[49m\u001b[43m)\u001b[49m\n",
      "Cell \u001b[1;32mIn[37], line 25\u001b[0m, in \u001b[0;36mplot_predicted_vs_actual\u001b[1;34m(optimized_models, df)\u001b[0m\n\u001b[0;32m     21\u001b[0m     plt\u001b[38;5;241m.\u001b[39mylabel(\u001b[38;5;124m'\u001b[39m\u001b[38;5;124mPredicted R-Value\u001b[39m\u001b[38;5;124m'\u001b[39m)\n\u001b[0;32m     23\u001b[0m     \u001b[38;5;66;03m# Annotate with R² and MSE\u001b[39;00m\n\u001b[0;32m     24\u001b[0m     plt\u001b[38;5;241m.\u001b[39mtext(\u001b[38;5;241m0.05\u001b[39m, \u001b[38;5;241m0.95\u001b[39m, \n\u001b[1;32m---> 25\u001b[0m              \u001b[38;5;124mf\u001b[39m\u001b[38;5;124m\"\u001b[39m\u001b[38;5;124mTest R²: \u001b[39m\u001b[38;5;132;01m{\u001b[39;00mmodel_info[\u001b[38;5;124m'\u001b[39m\u001b[38;5;124mtest_r2\u001b[39m\u001b[38;5;124m'\u001b[39m]\u001b[38;5;132;01m:\u001b[39;00m\u001b[38;5;124m.4f\u001b[39m\u001b[38;5;132;01m}\u001b[39;00m\u001b[38;5;130;01m\\n\u001b[39;00m\u001b[38;5;124m\"\u001b[39m \u001b[38;5;241m+\u001b[39m\n\u001b[0;32m     26\u001b[0m              \u001b[38;5;124mf\u001b[39m\u001b[38;5;124m\"\u001b[39m\u001b[38;5;124mTest MSE: \u001b[39m\u001b[38;5;132;01m{\u001b[39;00mmodel_info[\u001b[38;5;124m'\u001b[39m\u001b[38;5;124mtest_mse\u001b[39m\u001b[38;5;124m'\u001b[39m]\u001b[38;5;132;01m:\u001b[39;00m\u001b[38;5;124m.4f\u001b[39m\u001b[38;5;132;01m}\u001b[39;00m\u001b[38;5;124m\"\u001b[39m, \n\u001b[0;32m     27\u001b[0m              transform\u001b[38;5;241m=\u001b[39mplt\u001b[38;5;241m.\u001b[39mgca()\u001b[38;5;241m.\u001b[39mtransAxes, \n\u001b[0;32m     28\u001b[0m              verticalalignment\u001b[38;5;241m=\u001b[39m\u001b[38;5;124m'\u001b[39m\u001b[38;5;124mtop\u001b[39m\u001b[38;5;124m'\u001b[39m)\n\u001b[0;32m     30\u001b[0m plt\u001b[38;5;241m.\u001b[39mtight_layout()\n\u001b[0;32m     31\u001b[0m plt\u001b[38;5;241m.\u001b[39mshow()\n",
      "\u001b[1;31mKeyError\u001b[0m: 'test_r2'"
     ]
    },
    {
     "data": {
      "image/png": "[encoded data removed]",
      "text/plain": [
       "<Figure size 1500x1500 with 1 Axes>"
      ]
     },
     "metadata": {},
     "output_type": "display_data"
    }
   ],
   "source": [
    "plot_predicted_vs_actual(optimized_family_models, test_scaled_df)"
   ]
  },
  {
   "cell_type": "code",
   "execution_count": null,
   "metadata": {},
   "outputs": [],
   "source": []
  }
 ],
 "metadata": {
  "kernelspec": {
   "display_name": "Python 3",
   "language": "python",
   "name": "python3"
  },
  "language_info": {
   "codemirror_mode": {
    "name": "ipython",
    "version": 3
   },
   "file_extension": ".py",
   "mimetype": "text/x-python",
   "name": "python",
   "nbconvert_exporter": "python",
   "pygments_lexer": "ipython3",
   "version": "3.8.10"
  }
 },
 "nbformat": 4,
 "nbformat_minor": 2
}
